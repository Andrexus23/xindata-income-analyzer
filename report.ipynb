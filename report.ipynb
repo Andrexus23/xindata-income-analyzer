{
 "cells": [
  {
   "cell_type": "markdown",
   "id": "987bd32b",
   "metadata": {},
   "source": [
    "# Отчёт по работе"
   ]
  },
  {
   "cell_type": "markdown",
   "id": "fd404310",
   "metadata": {},
   "source": [
    "Нужно интерпретировать вопросы к LLM в формат запроса к датасету и получить некоторые статистические данные. Это необходимо, чтобы получить ожидаемые ответы на вопросы будущей модели.\n",
    "\n",
    "В целом ход решения такой:\n",
    "1) Придумать порядка 50 вопросов на естественном языке и при помощи запросов pandas самому ответить на них - таким образом, будет получен список ожидаемых значений.\n",
    "\n",
    "2) взять модель, дообучить её на части датасета - например на 50 %-80$ а остальные 50%-20% сделать валидационной выборкой - это обусловлено тем, что согласно тз нельзя использовать весь датасет полностью. Но тогда возникает вопрос что модель не сможет отвечать полностью правильно на вопросы, т.к. она не видела всей статистики.\n",
    "\n",
    "3) Потом составить выборку троек (вопрос, ожидаемый ответ, фактический ответ). ожидаемый должен быть простым и лаконичным - в идеале вещественное число - тот или иной процент, либо какой нибудь словарь или фрейм - если речь идет о распределении.\n",
    "\n",
    "4) При помощи нечеткого сравнения сопоставить ожидаемое и фактическое и посчитать метрики вроде F1-score и Accuracy.\n",
    "\n",
    "- TP - фактический ответ непустой, ожидаемое есть в фактическом или text similarity >= 0.7 (например)\n",
    "- FP - фактический ответ непустой, ожидаемого нет в фактическом или text similarity < 0.7\n",
    "- TN - фактический ответ пустой, ожидаемый пустой;\n",
    "- FN - фактический ответ пустой, ожидаемый непустой.\n",
    "\n",
    "Думаю что TN и FN тут не будет, т.к. llm обычно всегда что то генерирует.\n",
    "\n",
    "По поводу модели - конечно, лучше взять openai, но у меня сейчас нет платной подписки.\n",
    "А так приходится брать с HuggingFace огромные llm и дообучать.\n",
    "\n",
    "plaground/this.txt - исходный датасет, преобразованный в тестовый формат для скармливания моделям для дообучения. "
   ]
  },
  {
   "cell_type": "markdown",
   "id": "0b919072",
   "metadata": {},
   "source": [
    "1. Насколько выше доход у фрилансеров, принимающих оплату в криптовалюте, по сравнению с другими способами оплаты?"
   ]
  },
  {
   "cell_type": "code",
   "execution_count": 3,
   "id": "4bb1bbcf",
   "metadata": {},
   "outputs": [],
   "source": [
    "PATH: str = '/home/andrey/.cache/kagglehub/datasets/shohinurpervezshohan/freelancer-earnings-and-job-trends/versions/1/freelancer_earnings_bd.csv'"
   ]
  },
  {
   "cell_type": "code",
   "execution_count": 4,
   "id": "8d35959b",
   "metadata": {},
   "outputs": [],
   "source": [
    "import sys\n",
    "import pandas as pd\n",
    "import numpy as np\n",
    "\n",
    "df = pd.read_csv(PATH)"
   ]
  },
  {
   "cell_type": "code",
   "execution_count": 5,
   "id": "81ac28a3",
   "metadata": {},
   "outputs": [
    {
     "name": "stdout",
     "output_type": "stream",
     "text": [
      "Ответ на первый вопрос: 1.033\n"
     ]
    }
   ],
   "source": [
    "crypto_freelancers_mean = df[df['Payment_Method'] == 'Crypto']['Earnings_USD'].mean()\n",
    "non_crypto_freelancers_mean = pd.DataFrame = df[df['Payment_Method'] != 'Crypto']['Earnings_USD'].mean()\n",
    "first_question_answer: np.float64 = round((crypto_freelancers_mean / non_crypto_freelancers_mean), 3) \n",
    "print(f'Ответ на первый вопрос: {first_question_answer}')"
   ]
  },
  {
   "cell_type": "markdown",
   "id": "ed99dab5",
   "metadata": {},
   "source": [
    "2. Как распределяется доход фрилансеров в зависимости от региона проживания?\n",
    "\n",
    "Построим гистограмму по нормальному распределению:\n",
    "\n"
   ]
  },
  {
   "cell_type": "code",
   "execution_count": 6,
   "id": "d46931ac",
   "metadata": {},
   "outputs": [
    {
     "data": {
      "text/html": [
       "<div>\n",
       "<style scoped>\n",
       "    .dataframe tbody tr th:only-of-type {\n",
       "        vertical-align: middle;\n",
       "    }\n",
       "\n",
       "    .dataframe tbody tr th {\n",
       "        vertical-align: top;\n",
       "    }\n",
       "\n",
       "    .dataframe thead th {\n",
       "        text-align: right;\n",
       "    }\n",
       "</style>\n",
       "<table border=\"1\" class=\"dataframe\">\n",
       "  <thead>\n",
       "    <tr style=\"text-align: right;\">\n",
       "      <th></th>\n",
       "      <th>Freelancer_ID</th>\n",
       "      <th>Job_Category</th>\n",
       "      <th>Platform</th>\n",
       "      <th>Experience_Level</th>\n",
       "      <th>Client_Region</th>\n",
       "      <th>Payment_Method</th>\n",
       "      <th>Job_Completed</th>\n",
       "      <th>Earnings_USD</th>\n",
       "      <th>Hourly_Rate</th>\n",
       "      <th>Job_Success_Rate</th>\n",
       "      <th>Client_Rating</th>\n",
       "      <th>Job_Duration_Days</th>\n",
       "      <th>Project_Type</th>\n",
       "      <th>Rehire_Rate</th>\n",
       "      <th>Marketing_Spend</th>\n",
       "    </tr>\n",
       "  </thead>\n",
       "  <tbody>\n",
       "    <tr>\n",
       "      <th>0</th>\n",
       "      <td>1</td>\n",
       "      <td>Web Development</td>\n",
       "      <td>Fiverr</td>\n",
       "      <td>Beginner</td>\n",
       "      <td>Asia</td>\n",
       "      <td>Mobile Banking</td>\n",
       "      <td>180</td>\n",
       "      <td>1620</td>\n",
       "      <td>95.79</td>\n",
       "      <td>68.73</td>\n",
       "      <td>3.18</td>\n",
       "      <td>1</td>\n",
       "      <td>Fixed</td>\n",
       "      <td>40.19</td>\n",
       "      <td>53</td>\n",
       "    </tr>\n",
       "    <tr>\n",
       "      <th>1</th>\n",
       "      <td>2</td>\n",
       "      <td>App Development</td>\n",
       "      <td>Fiverr</td>\n",
       "      <td>Beginner</td>\n",
       "      <td>Australia</td>\n",
       "      <td>Mobile Banking</td>\n",
       "      <td>218</td>\n",
       "      <td>9078</td>\n",
       "      <td>86.38</td>\n",
       "      <td>97.54</td>\n",
       "      <td>3.44</td>\n",
       "      <td>54</td>\n",
       "      <td>Fixed</td>\n",
       "      <td>36.53</td>\n",
       "      <td>486</td>\n",
       "    </tr>\n",
       "    <tr>\n",
       "      <th>2</th>\n",
       "      <td>3</td>\n",
       "      <td>Web Development</td>\n",
       "      <td>Fiverr</td>\n",
       "      <td>Beginner</td>\n",
       "      <td>UK</td>\n",
       "      <td>Crypto</td>\n",
       "      <td>27</td>\n",
       "      <td>3455</td>\n",
       "      <td>85.17</td>\n",
       "      <td>86.60</td>\n",
       "      <td>4.20</td>\n",
       "      <td>46</td>\n",
       "      <td>Hourly</td>\n",
       "      <td>74.05</td>\n",
       "      <td>489</td>\n",
       "    </tr>\n",
       "    <tr>\n",
       "      <th>3</th>\n",
       "      <td>4</td>\n",
       "      <td>Data Entry</td>\n",
       "      <td>PeoplePerHour</td>\n",
       "      <td>Intermediate</td>\n",
       "      <td>Asia</td>\n",
       "      <td>Bank Transfer</td>\n",
       "      <td>17</td>\n",
       "      <td>5577</td>\n",
       "      <td>14.37</td>\n",
       "      <td>79.93</td>\n",
       "      <td>4.47</td>\n",
       "      <td>41</td>\n",
       "      <td>Hourly</td>\n",
       "      <td>27.58</td>\n",
       "      <td>67</td>\n",
       "    </tr>\n",
       "    <tr>\n",
       "      <th>4</th>\n",
       "      <td>5</td>\n",
       "      <td>Digital Marketing</td>\n",
       "      <td>Upwork</td>\n",
       "      <td>Expert</td>\n",
       "      <td>Asia</td>\n",
       "      <td>Crypto</td>\n",
       "      <td>245</td>\n",
       "      <td>5898</td>\n",
       "      <td>99.37</td>\n",
       "      <td>57.80</td>\n",
       "      <td>5.00</td>\n",
       "      <td>41</td>\n",
       "      <td>Hourly</td>\n",
       "      <td>69.09</td>\n",
       "      <td>489</td>\n",
       "    </tr>\n",
       "  </tbody>\n",
       "</table>\n",
       "</div>"
      ],
      "text/plain": [
       "   Freelancer_ID       Job_Category       Platform Experience_Level  \\\n",
       "0              1    Web Development         Fiverr         Beginner   \n",
       "1              2    App Development         Fiverr         Beginner   \n",
       "2              3    Web Development         Fiverr         Beginner   \n",
       "3              4         Data Entry  PeoplePerHour     Intermediate   \n",
       "4              5  Digital Marketing         Upwork           Expert   \n",
       "\n",
       "  Client_Region  Payment_Method  Job_Completed  Earnings_USD  Hourly_Rate  \\\n",
       "0          Asia  Mobile Banking            180          1620        95.79   \n",
       "1     Australia  Mobile Banking            218          9078        86.38   \n",
       "2            UK          Crypto             27          3455        85.17   \n",
       "3          Asia   Bank Transfer             17          5577        14.37   \n",
       "4          Asia          Crypto            245          5898        99.37   \n",
       "\n",
       "   Job_Success_Rate  Client_Rating  Job_Duration_Days Project_Type  \\\n",
       "0             68.73           3.18                  1        Fixed   \n",
       "1             97.54           3.44                 54        Fixed   \n",
       "2             86.60           4.20                 46       Hourly   \n",
       "3             79.93           4.47                 41       Hourly   \n",
       "4             57.80           5.00                 41       Hourly   \n",
       "\n",
       "   Rehire_Rate  Marketing_Spend  \n",
       "0        40.19               53  \n",
       "1        36.53              486  \n",
       "2        74.05              489  \n",
       "3        27.58               67  \n",
       "4        69.09              489  "
      ]
     },
     "execution_count": 6,
     "metadata": {},
     "output_type": "execute_result"
    }
   ],
   "source": [
    "df.head()"
   ]
  },
  {
   "cell_type": "code",
   "execution_count": 7,
   "id": "eef546aa",
   "metadata": {},
   "outputs": [],
   "source": [
    "mean_earnings_by_region: pd.Series = df.groupby('Client_Region')['Earnings_USD'].mean()"
   ]
  },
  {
   "cell_type": "code",
   "execution_count": 8,
   "id": "f2db4dde",
   "metadata": {},
   "outputs": [
    {
     "data": {
      "text/plain": [
       "{'Asia': 5172.284697508897,\n",
       " 'Australia': 4966.097315436242,\n",
       " 'Canada': 5350.134146341464,\n",
       " 'Europe': 4890.530534351145,\n",
       " 'Middle East': 4870.817869415808,\n",
       " 'UK': 5047.089285714285,\n",
       " 'USA': 4872.948630136986}"
      ]
     },
     "execution_count": 8,
     "metadata": {},
     "output_type": "execute_result"
    }
   ],
   "source": [
    "mean_earnings_by_region_dict = mean_earnings_by_region.to_dict()\n",
    "mean_earnings_by_region_dict"
   ]
  },
  {
   "cell_type": "code",
   "execution_count": 9,
   "metadata": {},
   "outputs": [
    {
     "data": {
      "image/png": "[encoded data removed]",
      "text/plain": [
       "<Figure size 800x500 with 1 Axes>"
      ]
     },
     "metadata": {},
     "output_type": "display_data"
    }
   ],
   "source": [
    "import matplotlib.pyplot as plt\n",
    "\n",
    "plt.figure(figsize=(8,5))\n",
    "labels = list(mean_earnings_by_region_dict.keys())\n",
    "values = list(mean_earnings_by_region_dict.values())\n",
    "\n",
    "plt.bar(labels, values,  color='skyblue', edgecolor='black')\n",
    "plt.title('Распределение дохода по регионам')\n",
    "plt.xlabel('страны')\n",
    "plt.ylabel('доход')\n",
    "plt.show()"
   ]
  },
  {
   "cell_type": "markdown",
   "id": "65dbb9db",
   "metadata": {},
   "source": [
    "3. Какой процент фрилансеров, считающих себя экспертами, выполнил менее 100 проектов?"
   ]
  },
  {
   "cell_type": "code",
   "execution_count": 18,
   "id": "077fea18",
   "metadata": {},
   "outputs": [
    {
     "name": "stdout",
     "output_type": "stream",
     "text": [
      "Ответ: 33.9 %\n"
     ]
    }
   ],
   "source": [
    "total_experts: np.float64 = df[df['Experience_Level'] == 'Expert']['Freelancer_ID'].count()\n",
    "less_than_100_experts = df[(df['Experience_Level'] == 'Expert') & (df['Job_Completed'] < 100)]['Freelancer_ID'].count()\n",
    "print(f'Ответ: {round((less_than_100_experts / total_experts) * 100, 1)} %')"
   ]
  },
  {
   "cell_type": "markdown",
   "id": "92e2d929",
   "metadata": {},
   "source": [
    "4. Какая средняя ставка почасовой оплаты у фрилансеров с разным уровнем опыта (Beginner, Intermediate, Expert)?"
   ]
  },
  {
   "cell_type": "code",
   "execution_count": null,
   "id": "cc33567f",
   "metadata": {},
   "outputs": [],
   "source": []
  }
 ],
 "metadata": {
  "kernelspec": {
   "display_name": ".venv",
   "language": "python",
   "name": "python3"
  },
  "language_info": {
   "codemirror_mode": {
    "name": "ipython",
    "version": 3
   },
   "file_extension": ".py",
   "mimetype": "text/x-python",
   "name": "python",
   "nbconvert_exporter": "python",
   "pygments_lexer": "ipython3",
   "version": "3.10.12"
  }
 },
 "nbformat": 4,
 "nbformat_minor": 5
}
