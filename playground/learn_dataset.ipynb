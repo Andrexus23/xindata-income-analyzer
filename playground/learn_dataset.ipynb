{
 "cells": [
  {
   "cell_type": "code",
   "execution_count": 7,
   "id": "f55467ea",
   "metadata": {},
   "outputs": [],
   "source": [
    "PATH: str = '/home/andrey/.cache/kagglehub/datasets/shohinurpervezshohan/freelancer-earnings-and-job-trends/versions/1/freelancer_earnings_bd.csv'"
   ]
  },
  {
   "cell_type": "code",
   "execution_count": 8,
   "id": "1fa329fc",
   "metadata": {},
   "outputs": [],
   "source": [
    "import pandas as pd\n",
    "\n",
    "data = pd.read_csv(PATH)"
   ]
  },
  {
   "cell_type": "code",
   "execution_count": 9,
   "id": "7e235f54",
   "metadata": {},
   "outputs": [
    {
     "data": {
      "text/plain": [
       "(1950, 15)"
      ]
     },
     "execution_count": 9,
     "metadata": {},
     "output_type": "execute_result"
    }
   ],
   "source": [
    "data.shape"
   ]
  },
  {
   "cell_type": "code",
   "execution_count": null,
   "id": "5f3e8d35",
   "metadata": {},
   "outputs": [],
   "source": []
  },
  {
   "cell_type": "code",
   "execution_count": 10,
   "id": "b69f51f6",
   "metadata": {},
   "outputs": [
    {
     "data": {
      "text/html": [
       "<div>\n",
       "<style scoped>\n",
       "    .dataframe tbody tr th:only-of-type {\n",
       "        vertical-align: middle;\n",
       "    }\n",
       "\n",
       "    .dataframe tbody tr th {\n",
       "        vertical-align: top;\n",
       "    }\n",
       "\n",
       "    .dataframe thead th {\n",
       "        text-align: right;\n",
       "    }\n",
       "</style>\n",
       "<table border=\"1\" class=\"dataframe\">\n",
       "  <thead>\n",
       "    <tr style=\"text-align: right;\">\n",
       "      <th></th>\n",
       "      <th>Freelancer_ID</th>\n",
       "      <th>Job_Category</th>\n",
       "      <th>Platform</th>\n",
       "      <th>Experience_Level</th>\n",
       "      <th>Client_Region</th>\n",
       "      <th>Payment_Method</th>\n",
       "      <th>Job_Completed</th>\n",
       "      <th>Earnings_USD</th>\n",
       "      <th>Hourly_Rate</th>\n",
       "      <th>Job_Success_Rate</th>\n",
       "      <th>Client_Rating</th>\n",
       "      <th>Job_Duration_Days</th>\n",
       "      <th>Project_Type</th>\n",
       "      <th>Rehire_Rate</th>\n",
       "      <th>Marketing_Spend</th>\n",
       "    </tr>\n",
       "  </thead>\n",
       "  <tbody>\n",
       "    <tr>\n",
       "      <th>0</th>\n",
       "      <td>1</td>\n",
       "      <td>Web Development</td>\n",
       "      <td>Fiverr</td>\n",
       "      <td>Beginner</td>\n",
       "      <td>Asia</td>\n",
       "      <td>Mobile Banking</td>\n",
       "      <td>180</td>\n",
       "      <td>1620</td>\n",
       "      <td>95.79</td>\n",
       "      <td>68.73</td>\n",
       "      <td>3.18</td>\n",
       "      <td>1</td>\n",
       "      <td>Fixed</td>\n",
       "      <td>40.19</td>\n",
       "      <td>53</td>\n",
       "    </tr>\n",
       "    <tr>\n",
       "      <th>1</th>\n",
       "      <td>2</td>\n",
       "      <td>App Development</td>\n",
       "      <td>Fiverr</td>\n",
       "      <td>Beginner</td>\n",
       "      <td>Australia</td>\n",
       "      <td>Mobile Banking</td>\n",
       "      <td>218</td>\n",
       "      <td>9078</td>\n",
       "      <td>86.38</td>\n",
       "      <td>97.54</td>\n",
       "      <td>3.44</td>\n",
       "      <td>54</td>\n",
       "      <td>Fixed</td>\n",
       "      <td>36.53</td>\n",
       "      <td>486</td>\n",
       "    </tr>\n",
       "    <tr>\n",
       "      <th>2</th>\n",
       "      <td>3</td>\n",
       "      <td>Web Development</td>\n",
       "      <td>Fiverr</td>\n",
       "      <td>Beginner</td>\n",
       "      <td>UK</td>\n",
       "      <td>Crypto</td>\n",
       "      <td>27</td>\n",
       "      <td>3455</td>\n",
       "      <td>85.17</td>\n",
       "      <td>86.60</td>\n",
       "      <td>4.20</td>\n",
       "      <td>46</td>\n",
       "      <td>Hourly</td>\n",
       "      <td>74.05</td>\n",
       "      <td>489</td>\n",
       "    </tr>\n",
       "    <tr>\n",
       "      <th>3</th>\n",
       "      <td>4</td>\n",
       "      <td>Data Entry</td>\n",
       "      <td>PeoplePerHour</td>\n",
       "      <td>Intermediate</td>\n",
       "      <td>Asia</td>\n",
       "      <td>Bank Transfer</td>\n",
       "      <td>17</td>\n",
       "      <td>5577</td>\n",
       "      <td>14.37</td>\n",
       "      <td>79.93</td>\n",
       "      <td>4.47</td>\n",
       "      <td>41</td>\n",
       "      <td>Hourly</td>\n",
       "      <td>27.58</td>\n",
       "      <td>67</td>\n",
       "    </tr>\n",
       "    <tr>\n",
       "      <th>4</th>\n",
       "      <td>5</td>\n",
       "      <td>Digital Marketing</td>\n",
       "      <td>Upwork</td>\n",
       "      <td>Expert</td>\n",
       "      <td>Asia</td>\n",
       "      <td>Crypto</td>\n",
       "      <td>245</td>\n",
       "      <td>5898</td>\n",
       "      <td>99.37</td>\n",
       "      <td>57.80</td>\n",
       "      <td>5.00</td>\n",
       "      <td>41</td>\n",
       "      <td>Hourly</td>\n",
       "      <td>69.09</td>\n",
       "      <td>489</td>\n",
       "    </tr>\n",
       "  </tbody>\n",
       "</table>\n",
       "</div>"
      ],
      "text/plain": [
       "   Freelancer_ID       Job_Category       Platform Experience_Level  \\\n",
       "0              1    Web Development         Fiverr         Beginner   \n",
       "1              2    App Development         Fiverr         Beginner   \n",
       "2              3    Web Development         Fiverr         Beginner   \n",
       "3              4         Data Entry  PeoplePerHour     Intermediate   \n",
       "4              5  Digital Marketing         Upwork           Expert   \n",
       "\n",
       "  Client_Region  Payment_Method  Job_Completed  Earnings_USD  Hourly_Rate  \\\n",
       "0          Asia  Mobile Banking            180          1620        95.79   \n",
       "1     Australia  Mobile Banking            218          9078        86.38   \n",
       "2            UK          Crypto             27          3455        85.17   \n",
       "3          Asia   Bank Transfer             17          5577        14.37   \n",
       "4          Asia          Crypto            245          5898        99.37   \n",
       "\n",
       "   Job_Success_Rate  Client_Rating  Job_Duration_Days Project_Type  \\\n",
       "0             68.73           3.18                  1        Fixed   \n",
       "1             97.54           3.44                 54        Fixed   \n",
       "2             86.60           4.20                 46       Hourly   \n",
       "3             79.93           4.47                 41       Hourly   \n",
       "4             57.80           5.00                 41       Hourly   \n",
       "\n",
       "   Rehire_Rate  Marketing_Spend  \n",
       "0        40.19               53  \n",
       "1        36.53              486  \n",
       "2        74.05              489  \n",
       "3        27.58               67  \n",
       "4        69.09              489  "
      ]
     },
     "execution_count": 10,
     "metadata": {},
     "output_type": "execute_result"
    }
   ],
   "source": [
    "data.head()"
   ]
  },
  {
   "cell_type": "code",
   "execution_count": 11,
   "id": "fe866a81",
   "metadata": {},
   "outputs": [],
   "source": [
    "import sys\n",
    "sys.path.append('/home/andrey/test-tasks/xindata-income-analyzer')\n",
    "\n"
   ]
  },
  {
   "cell_type": "code",
   "execution_count": 12,
   "id": "828a8dfc",
   "metadata": {},
   "outputs": [],
   "source": [
    "from xindata_income_analyzer.model.preprocessing.utils import table_to_text"
   ]
  },
  {
   "cell_type": "code",
   "execution_count": null,
   "id": "6ab65c94",
   "metadata": {},
   "outputs": [],
   "source": [
    "print(table_to_text(PATH), file=open('this.txt', 'w'))"
   ]
  },
  {
   "cell_type": "code",
   "execution_count": 16,
   "id": "5e8ed031",
   "metadata": {},
   "outputs": [
    {
     "name": "stdout",
     "output_type": "stream",
     "text": [
      "Collecting transformers\n",
      "  Downloading transformers-4.52.4-py3-none-any.whl (10.5 MB)\n",
      "\u001b[2K     \u001b[90m━━━━━━━━━━━━━━━━━━━━━━━━━━━━━━━━━━━━━━━━\u001b[0m \u001b[32m10.5/10.5 MB\u001b[0m \u001b[31m2.5 MB/s\u001b[0m eta \u001b[36m0:00:00\u001b[0m00:01\u001b[0m0:01\u001b[0m0m\n",
      "\u001b[?25hCollecting tokenizers<0.22,>=0.21\n",
      "  Using cached tokenizers-0.21.1-cp39-abi3-manylinux_2_17_x86_64.manylinux2014_x86_64.whl (3.0 MB)\n",
      "Collecting filelock\n",
      "  Using cached filelock-3.18.0-py3-none-any.whl (16 kB)\n",
      "Collecting regex!=2019.12.17\n",
      "  Using cached regex-2024.11.6-cp310-cp310-manylinux_2_17_x86_64.manylinux2014_x86_64.whl (781 kB)\n",
      "Collecting tqdm>=4.27\n",
      "  Using cached tqdm-4.67.1-py3-none-any.whl (78 kB)\n",
      "Collecting safetensors>=0.4.3\n",
      "  Using cached safetensors-0.5.3-cp38-abi3-manylinux_2_17_x86_64.manylinux2014_x86_64.whl (471 kB)\n",
      "Collecting pyyaml>=5.1\n",
      "  Using cached PyYAML-6.0.2-cp310-cp310-manylinux_2_17_x86_64.manylinux2014_x86_64.whl (751 kB)\n",
      "Collecting huggingface-hub<1.0,>=0.30.0\n",
      "  Downloading huggingface_hub-0.32.3-py3-none-any.whl (512 kB)\n",
      "\u001b[2K     \u001b[90m━━━━━━━━━━━━━━━━━━━━━━━━━━━━━━━━━━━━━━━\u001b[0m \u001b[32m512.1/512.1 KB\u001b[0m \u001b[31m2.7 MB/s\u001b[0m eta \u001b[36m0:00:00\u001b[0ma \u001b[36m0:00:01\u001b[0m\n",
      "\u001b[?25hRequirement already satisfied: numpy>=1.17 in /home/andrey/test-tasks/xindata-income-analyzer/jupyter_venv/lib/python3.10/site-packages (from transformers) (2.2.6)\n",
      "Collecting requests\n",
      "  Using cached requests-2.32.3-py3-none-any.whl (64 kB)\n",
      "Requirement already satisfied: packaging>=20.0 in /home/andrey/test-tasks/xindata-income-analyzer/jupyter_venv/lib/python3.10/site-packages (from transformers) (25.0)\n",
      "Collecting hf-xet<2.0.0,>=1.1.2\n",
      "  Downloading hf_xet-1.1.2-cp37-abi3-manylinux_2_17_x86_64.manylinux2014_x86_64.whl (5.2 MB)\n",
      "\u001b[2K     \u001b[90m━━━━━━━━━━━━━━━━━━━━━━━━━━━━━━━━━━━━━━━━\u001b[0m \u001b[32m5.2/5.2 MB\u001b[0m \u001b[31m1.8 MB/s\u001b[0m eta \u001b[36m0:00:00\u001b[0m00:01\u001b[0m00:01\u001b[0m\n",
      "\u001b[?25hRequirement already satisfied: typing-extensions>=3.7.4.3 in /home/andrey/test-tasks/xindata-income-analyzer/jupyter_venv/lib/python3.10/site-packages (from huggingface-hub<1.0,>=0.30.0->transformers) (4.13.2)\n",
      "Collecting fsspec>=2023.5.0\n",
      "  Downloading fsspec-2025.5.1-py3-none-any.whl (199 kB)\n",
      "\u001b[2K     \u001b[90m━━━━━━━━━━━━━━━━━━━━━━━━━━━━━━━━━━━━━━━\u001b[0m \u001b[32m199.1/199.1 KB\u001b[0m \u001b[31m1.4 MB/s\u001b[0m eta \u001b[36m0:00:00\u001b[0m00:01\u001b[0m00:01\u001b[0m\n",
      "\u001b[?25hCollecting idna<4,>=2.5\n",
      "  Using cached idna-3.10-py3-none-any.whl (70 kB)\n",
      "Collecting charset-normalizer<4,>=2\n",
      "  Downloading charset_normalizer-3.4.2-cp310-cp310-manylinux_2_17_x86_64.manylinux2014_x86_64.whl (149 kB)\n",
      "\u001b[2K     \u001b[90m━━━━━━━━━━━━━━━━━━━━━━━━━━━━━━━━━━━━━━━\u001b[0m \u001b[32m149.5/149.5 KB\u001b[0m \u001b[31m1.6 MB/s\u001b[0m eta \u001b[36m0:00:00\u001b[0ma \u001b[36m0:00:01\u001b[0m\n",
      "\u001b[?25hCollecting certifi>=2017.4.17\n",
      "  Downloading certifi-2025.4.26-py3-none-any.whl (159 kB)\n",
      "\u001b[2K     \u001b[90m━━━━━━━━━━━━━━━━━━━━━━━━━━━━━━━━━━━━━━━\u001b[0m \u001b[32m159.6/159.6 KB\u001b[0m \u001b[31m1.5 MB/s\u001b[0m eta \u001b[36m0:00:00\u001b[0ma \u001b[36m0:00:01\u001b[0m\n",
      "\u001b[?25hCollecting urllib3<3,>=1.21.1\n",
      "  Downloading urllib3-2.4.0-py3-none-any.whl (128 kB)\n",
      "\u001b[2K     \u001b[90m━━━━━━━━━━━━━━━━━━━━━━━━━━━━━━━━━━━━━━━\u001b[0m \u001b[32m128.7/128.7 KB\u001b[0m \u001b[31m1.7 MB/s\u001b[0m eta \u001b[36m0:00:00\u001b[0ma \u001b[36m0:00:01\u001b[0m\n",
      "\u001b[?25hInstalling collected packages: urllib3, tqdm, safetensors, regex, pyyaml, idna, hf-xet, fsspec, filelock, charset-normalizer, certifi, requests, huggingface-hub, tokenizers, transformers\n",
      "Successfully installed certifi-2025.4.26 charset-normalizer-3.4.2 filelock-3.18.0 fsspec-2025.5.1 hf-xet-1.1.2 huggingface-hub-0.32.3 idna-3.10 pyyaml-6.0.2 regex-2024.11.6 requests-2.32.3 safetensors-0.5.3 tokenizers-0.21.1 tqdm-4.67.1 transformers-4.52.4 urllib3-2.4.0\n",
      "Note: you may need to restart the kernel to use updated packages.\n"
     ]
    }
   ],
   "source": [
    "%pip install transformers"
   ]
  },
  {
   "cell_type": "code",
   "execution_count": 17,
   "id": "03465bd4",
   "metadata": {},
   "outputs": [
    {
     "name": "stderr",
     "output_type": "stream",
     "text": [
      "/home/andrey/test-tasks/xindata-income-analyzer/jupyter_venv/lib/python3.10/site-packages/tqdm/auto.py:21: TqdmWarning: IProgress not found. Please update jupyter and ipywidgets. See https://ipywidgets.readthedocs.io/en/stable/user_install.html\n",
      "  from .autonotebook import tqdm as notebook_tqdm\n",
      "None of PyTorch, TensorFlow >= 2.0, or Flax have been found. Models won't be available and only tokenizers, configuration and file/data utilities can be used.\n"
     ]
    }
   ],
   "source": [
    "from transformers import GPT2Tokenizer, TextDataset, DataCollatorForLanguageModeling\n",
    "\n",
    "tokenizer = GPT2Tokenizer.from_pretrained(\"ai-forever/rugpt3small_based_on_gpt2\")"
   ]
  }
 ],
 "metadata": {
  "kernelspec": {
   "display_name": "jupyter_venv",
   "language": "python",
   "name": "python3"
  },
  "language_info": {
   "codemirror_mode": {
    "name": "ipython",
    "version": 3
   },
   "file_extension": ".py",
   "mimetype": "text/x-python",
   "name": "python",
   "nbconvert_exporter": "python",
   "pygments_lexer": "ipython3",
   "version": "3.10.12"
  }
 },
 "nbformat": 4,
 "nbformat_minor": 5
}
