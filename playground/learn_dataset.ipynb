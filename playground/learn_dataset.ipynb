{
 "cells": [
  {
   "cell_type": "code",
   "execution_count": 1,
   "id": "f55467ea",
   "metadata": {},
   "outputs": [],
   "source": [
    "import sys\n",
    "\n",
    "PATH: str = '/home/andrey/.cache/kagglehub/datasets/shohinurpervezshohan/freelancer-earnings-and-job-trends/versions/1/freelancer_earnings_bd.csv'\n",
    "\n",
    "sys.path.append('/home/andrey/test-tasks/xindata-income-analyzer')"
   ]
  },
  {
   "cell_type": "code",
   "execution_count": 2,
   "id": "1fa329fc",
   "metadata": {},
   "outputs": [],
   "source": [
    "import pandas as pd\n",
    "\n",
    "data = pd.read_csv(PATH)"
   ]
  },
  {
   "cell_type": "code",
   "execution_count": 3,
   "id": "7e235f54",
   "metadata": {},
   "outputs": [
    {
     "data": {
      "text/plain": [
       "(1950, 15)"
      ]
     },
     "execution_count": 3,
     "metadata": {},
     "output_type": "execute_result"
    }
   ],
   "source": [
    "data.shape"
   ]
  },
  {
   "cell_type": "code",
   "execution_count": null,
   "id": "5f3e8d35",
   "metadata": {},
   "outputs": [],
   "source": []
  },
  {
   "cell_type": "code",
   "execution_count": 4,
   "id": "b69f51f6",
   "metadata": {},
   "outputs": [
    {
     "data": {
      "text/html": [
       "<div>\n",
       "<style scoped>\n",
       "    .dataframe tbody tr th:only-of-type {\n",
       "        vertical-align: middle;\n",
       "    }\n",
       "\n",
       "    .dataframe tbody tr th {\n",
       "        vertical-align: top;\n",
       "    }\n",
       "\n",
       "    .dataframe thead th {\n",
       "        text-align: right;\n",
       "    }\n",
       "</style>\n",
       "<table border=\"1\" class=\"dataframe\">\n",
       "  <thead>\n",
       "    <tr style=\"text-align: right;\">\n",
       "      <th></th>\n",
       "      <th>Freelancer_ID</th>\n",
       "      <th>Job_Category</th>\n",
       "      <th>Platform</th>\n",
       "      <th>Experience_Level</th>\n",
       "      <th>Client_Region</th>\n",
       "      <th>Payment_Method</th>\n",
       "      <th>Job_Completed</th>\n",
       "      <th>Earnings_USD</th>\n",
       "      <th>Hourly_Rate</th>\n",
       "      <th>Job_Success_Rate</th>\n",
       "      <th>Client_Rating</th>\n",
       "      <th>Job_Duration_Days</th>\n",
       "      <th>Project_Type</th>\n",
       "      <th>Rehire_Rate</th>\n",
       "      <th>Marketing_Spend</th>\n",
       "    </tr>\n",
       "  </thead>\n",
       "  <tbody>\n",
       "    <tr>\n",
       "      <th>0</th>\n",
       "      <td>1</td>\n",
       "      <td>Web Development</td>\n",
       "      <td>Fiverr</td>\n",
       "      <td>Beginner</td>\n",
       "      <td>Asia</td>\n",
       "      <td>Mobile Banking</td>\n",
       "      <td>180</td>\n",
       "      <td>1620</td>\n",
       "      <td>95.79</td>\n",
       "      <td>68.73</td>\n",
       "      <td>3.18</td>\n",
       "      <td>1</td>\n",
       "      <td>Fixed</td>\n",
       "      <td>40.19</td>\n",
       "      <td>53</td>\n",
       "    </tr>\n",
       "    <tr>\n",
       "      <th>1</th>\n",
       "      <td>2</td>\n",
       "      <td>App Development</td>\n",
       "      <td>Fiverr</td>\n",
       "      <td>Beginner</td>\n",
       "      <td>Australia</td>\n",
       "      <td>Mobile Banking</td>\n",
       "      <td>218</td>\n",
       "      <td>9078</td>\n",
       "      <td>86.38</td>\n",
       "      <td>97.54</td>\n",
       "      <td>3.44</td>\n",
       "      <td>54</td>\n",
       "      <td>Fixed</td>\n",
       "      <td>36.53</td>\n",
       "      <td>486</td>\n",
       "    </tr>\n",
       "    <tr>\n",
       "      <th>2</th>\n",
       "      <td>3</td>\n",
       "      <td>Web Development</td>\n",
       "      <td>Fiverr</td>\n",
       "      <td>Beginner</td>\n",
       "      <td>UK</td>\n",
       "      <td>Crypto</td>\n",
       "      <td>27</td>\n",
       "      <td>3455</td>\n",
       "      <td>85.17</td>\n",
       "      <td>86.60</td>\n",
       "      <td>4.20</td>\n",
       "      <td>46</td>\n",
       "      <td>Hourly</td>\n",
       "      <td>74.05</td>\n",
       "      <td>489</td>\n",
       "    </tr>\n",
       "    <tr>\n",
       "      <th>3</th>\n",
       "      <td>4</td>\n",
       "      <td>Data Entry</td>\n",
       "      <td>PeoplePerHour</td>\n",
       "      <td>Intermediate</td>\n",
       "      <td>Asia</td>\n",
       "      <td>Bank Transfer</td>\n",
       "      <td>17</td>\n",
       "      <td>5577</td>\n",
       "      <td>14.37</td>\n",
       "      <td>79.93</td>\n",
       "      <td>4.47</td>\n",
       "      <td>41</td>\n",
       "      <td>Hourly</td>\n",
       "      <td>27.58</td>\n",
       "      <td>67</td>\n",
       "    </tr>\n",
       "    <tr>\n",
       "      <th>4</th>\n",
       "      <td>5</td>\n",
       "      <td>Digital Marketing</td>\n",
       "      <td>Upwork</td>\n",
       "      <td>Expert</td>\n",
       "      <td>Asia</td>\n",
       "      <td>Crypto</td>\n",
       "      <td>245</td>\n",
       "      <td>5898</td>\n",
       "      <td>99.37</td>\n",
       "      <td>57.80</td>\n",
       "      <td>5.00</td>\n",
       "      <td>41</td>\n",
       "      <td>Hourly</td>\n",
       "      <td>69.09</td>\n",
       "      <td>489</td>\n",
       "    </tr>\n",
       "  </tbody>\n",
       "</table>\n",
       "</div>"
      ],
      "text/plain": [
       "   Freelancer_ID       Job_Category       Platform Experience_Level  \\\n",
       "0              1    Web Development         Fiverr         Beginner   \n",
       "1              2    App Development         Fiverr         Beginner   \n",
       "2              3    Web Development         Fiverr         Beginner   \n",
       "3              4         Data Entry  PeoplePerHour     Intermediate   \n",
       "4              5  Digital Marketing         Upwork           Expert   \n",
       "\n",
       "  Client_Region  Payment_Method  Job_Completed  Earnings_USD  Hourly_Rate  \\\n",
       "0          Asia  Mobile Banking            180          1620        95.79   \n",
       "1     Australia  Mobile Banking            218          9078        86.38   \n",
       "2            UK          Crypto             27          3455        85.17   \n",
       "3          Asia   Bank Transfer             17          5577        14.37   \n",
       "4          Asia          Crypto            245          5898        99.37   \n",
       "\n",
       "   Job_Success_Rate  Client_Rating  Job_Duration_Days Project_Type  \\\n",
       "0             68.73           3.18                  1        Fixed   \n",
       "1             97.54           3.44                 54        Fixed   \n",
       "2             86.60           4.20                 46       Hourly   \n",
       "3             79.93           4.47                 41       Hourly   \n",
       "4             57.80           5.00                 41       Hourly   \n",
       "\n",
       "   Rehire_Rate  Marketing_Spend  \n",
       "0        40.19               53  \n",
       "1        36.53              486  \n",
       "2        74.05              489  \n",
       "3        27.58               67  \n",
       "4        69.09              489  "
      ]
     },
     "execution_count": 4,
     "metadata": {},
     "output_type": "execute_result"
    }
   ],
   "source": [
    "data.head()"
   ]
  },
  {
   "cell_type": "code",
   "execution_count": 5,
   "id": "828a8dfc",
   "metadata": {},
   "outputs": [],
   "source": [
    "from xindata_income_analyzer.model.preprocessing.utils import table_to_text"
   ]
  },
  {
   "cell_type": "code",
   "execution_count": 6,
   "id": "6ab65c94",
   "metadata": {},
   "outputs": [],
   "source": [
    "print(table_to_text(PATH), file=open('this.txt', 'w'))"
   ]
  },
  {
   "cell_type": "code",
   "execution_count": 7,
   "id": "03465bd4",
   "metadata": {},
   "outputs": [
    {
     "name": "stderr",
     "output_type": "stream",
     "text": [
      "/home/andrey/test-tasks/xindata-income-analyzer/.venv/lib/python3.10/site-packages/tqdm/auto.py:21: TqdmWarning: IProgress not found. Please update jupyter and ipywidgets. See https://ipywidgets.readthedocs.io/en/stable/user_install.html\n",
      "  from .autonotebook import tqdm as notebook_tqdm\n"
     ]
    }
   ],
   "source": [
    "from transformers import GPT2Tokenizer, TextDataset, DataCollatorForLanguageModeling\n",
    "\n",
    "tokenizer = GPT2Tokenizer.from_pretrained(\"ai-forever/rugpt3small_based_on_gpt2\")"
   ]
  },
  {
   "cell_type": "code",
   "execution_count": null,
   "id": "de921dd7",
   "metadata": {},
   "outputs": [],
   "source": [
    "from xindata_income_analyzer.model.preprocessing.pretrain import pretrain_model\n",
    "\n",
    "pretrain_model(\n",
    "    \"ai-forever/rugpt3small_based_on_gpt2\", \n",
    "    '/home/andrey/test-tasks/xindata-income-analyzer/playground/this.txt', \n",
    "    '/home/andrey/test-tasks/preptrained_models/updated_rugpt3small_based_on_gpt2',\n",
    ")"
   ]
  }
 ],
 "metadata": {
  "kernelspec": {
   "display_name": ".venv",
   "language": "python",
   "name": "python3"
  },
  "language_info": {
   "codemirror_mode": {
    "name": "ipython",
    "version": 3
   },
   "file_extension": ".py",
   "mimetype": "text/x-python",
   "name": "python",
   "nbconvert_exporter": "python",
   "pygments_lexer": "ipython3",
   "version": "3.10.12"
  }
 },
 "nbformat": 4,
 "nbformat_minor": 5
}
